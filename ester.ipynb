{
 "cells": [
  {
   "cell_type": "code",
   "execution_count": 1,
   "id": "03e1206f",
   "metadata": {},
   "outputs": [],
   "source": [
    "import pyttsx3 #pip install pyttsx3\n",
    "import speech_recognition as sr #pip install SpeechRecognition\n",
    "import datetime\n",
    "import wikipedia #pip install wikipedia"
   ]
  },
  {
   "cell_type": "code",
   "execution_count": 2,
   "id": "5a0cab1b",
   "metadata": {},
   "outputs": [],
   "source": [
    "engine = pyttsx3.init('sapi5')\n",
    "voices = engine.getProperty('voices')\n",
    "# print(voices[1].id)\n",
    "engine.setProperty('voice', voices[1].id)"
   ]
  },
  {
   "cell_type": "code",
   "execution_count": 3,
   "id": "cffbe120",
   "metadata": {},
   "outputs": [],
   "source": [
    "def speak(audio):\n",
    "    engine.say(audio)\n",
    "    engine.runAndWait()\n"
   ]
  },
  {
   "cell_type": "code",
   "execution_count": 4,
   "id": "4a642bc1",
   "metadata": {},
   "outputs": [],
   "source": [
    "def wishMe():\n",
    "    hour = int(datetime.datetime.now().hour)\n",
    "    if hour>=0 and hour<12:\n",
    "        speak(\"Good Morning!\")\n",
    "\n",
    "    elif hour>=12 and hour<18:\n",
    "        speak(\"Good Afternoon!\")   \n",
    "    elif hour>=18 and hour<=24:\n",
    "        speak(\"Good Evening!\")\n",
    "    else:\n",
    "        speak(\"Good Night!\")  \n",
    "\n",
    "    speak(\"Hello I am Ester  , How can I help you\")       "
   ]
  },
  {
   "cell_type": "code",
   "execution_count": 5,
   "id": "437866c4",
   "metadata": {},
   "outputs": [],
   "source": [
    "def takeCommand():\n",
    "    #It takes microphone input from the user and returns string output\n",
    "\n",
    "    r = sr.Recognizer()\n",
    "    with sr.Microphone() as source:\n",
    "        print(\"Listening...\")\n",
    "        r.pause_threshold = 1\n",
    "        audio = r.listen(source)\n",
    "\n",
    "    try:\n",
    "        print(\"Recognizing...\")    \n",
    "        query = r.recognize_google(audio, language='en-in')\n",
    "        print(f\"User said: {query}\\n\")\n",
    "\n",
    "    except Exception as e:\n",
    "        # print(e)    \n",
    "        print(\"Say that again please...\")  \n",
    "        return \"None\"\n",
    "    return query"
   ]
  },
  {
   "cell_type": "code",
   "execution_count": null,
   "id": "9c72fc0c",
   "metadata": {},
   "outputs": [
    {
     "name": "stdout",
     "output_type": "stream",
     "text": [
      "Listening...\n",
      "Recognizing...\n",
      "Say that again please...\n",
      "Listening...\n",
      "Recognizing...\n",
      "User said: Harsh chal raha hai\n",
      "\n",
      "Listening...\n",
      "Recognizing...\n",
      "Say that again please...\n",
      "Listening...\n",
      "Recognizing...\n",
      "User said: Shizuka Hasta Karti Hoon\n",
      "\n",
      "Listening...\n",
      "Recognizing...\n",
      "Say that again please...\n",
      "Listening...\n",
      "Recognizing...\n",
      "User said: Apne isme isme kya\n",
      "\n",
      "Listening...\n",
      "Recognizing...\n",
      "User said: wild room\n",
      "\n",
      "Listening...\n",
      "Recognizing...\n",
      "Say that again please...\n",
      "Listening...\n",
      "Recognizing...\n",
      "User said: Nahin Aaya Abhi Tak\n",
      "\n",
      "Listening...\n",
      "Recognizing...\n",
      "User said: isko save kaise karte the\n",
      "\n",
      "Listening...\n",
      "Recognizing...\n",
      "User said: Achcha remember\n",
      "\n",
      "Listening...\n",
      "Recognizing...\n",
      "User said: rename\n",
      "\n",
      "Listening...\n",
      "Recognizing...\n",
      "User said: dot fever\n",
      "\n",
      "Listening...\n",
      "Recognizing...\n",
      "Say that again please...\n",
      "Listening...\n"
     ]
    }
   ],
   "source": [
    "if __name__ == \"__main__\":\n",
    "    wishMe()\n",
    "    while True:\n",
    "     #if 1:\n",
    "        query = takeCommand().lower()\n",
    "\n",
    "        # Logic for executing tasks based on query\n",
    "        if 'search' and 'wikipedia' in query:\n",
    "            speak('Searching Wikipedia...')\n",
    "            query = query.replace(\"wikipedia\", \"\")\n",
    "            results = wikipedia.summary(query, sentences=3)\n",
    "            speak(\"According to Wikipedia\")\n",
    "            print(results)\n",
    "            speak(results)\n",
    "            "
   ]
  },
  {
   "cell_type": "code",
   "execution_count": null,
   "id": "ccf54294",
   "metadata": {},
   "outputs": [],
   "source": []
  }
 ],
 "metadata": {
  "kernelspec": {
   "display_name": "Python 3",
   "language": "python",
   "name": "python3"
  },
  "language_info": {
   "codemirror_mode": {
    "name": "ipython",
    "version": 3
   },
   "file_extension": ".py",
   "mimetype": "text/x-python",
   "name": "python",
   "nbconvert_exporter": "python",
   "pygments_lexer": "ipython3",
   "version": "3.8.8"
  }
 },
 "nbformat": 4,
 "nbformat_minor": 5
}
